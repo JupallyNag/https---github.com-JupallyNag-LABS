{
 "cells": [
  {
   "cell_type": "code",
   "execution_count": 1,
   "id": "defcfb53",
   "metadata": {},
   "outputs": [],
   "source": [
    "import numpy as np"
   ]
  },
  {
   "cell_type": "code",
   "execution_count": 3,
   "id": "22c1b632",
   "metadata": {},
   "outputs": [
    {
     "name": "stdout",
     "output_type": "stream",
     "text": [
      "[0. 0. 0. 0. 0. 0. 0. 0. 0. 0.]\n"
     ]
    }
   ],
   "source": [
    "x= np.zeros(10)\n",
    "print(x)"
   ]
  },
  {
   "cell_type": "code",
   "execution_count": 4,
   "id": "86a6037c",
   "metadata": {},
   "outputs": [
    {
     "name": "stdout",
     "output_type": "stream",
     "text": [
      "[0. 0. 0. 0. 1. 0. 0. 0. 0. 0.]\n"
     ]
    }
   ],
   "source": [
    "x[4]=1\n",
    "print(x)"
   ]
  },
  {
   "cell_type": "code",
   "execution_count": 11,
   "id": "6c94a618",
   "metadata": {},
   "outputs": [
    {
     "data": {
      "text/plain": [
       "array([10, 11, 12, 13, 14, 15, 16, 17, 18, 19, 20, 21, 22, 23, 24, 25, 26,\n",
       "       27, 28, 29, 30, 31, 32, 33, 34, 35, 36, 37, 38, 39, 40, 41, 42, 43,\n",
       "       44, 45, 46, 47, 48, 49])"
      ]
     },
     "execution_count": 11,
     "metadata": {},
     "output_type": "execute_result"
    }
   ],
   "source": [
    "np.arange(10,50)"
   ]
  },
  {
   "cell_type": "code",
   "execution_count": 13,
   "id": "d3854a91",
   "metadata": {},
   "outputs": [
    {
     "data": {
      "text/plain": [
       "array([[0, 1, 2],\n",
       "       [3, 4, 5],\n",
       "       [6, 7, 8]])"
      ]
     },
     "execution_count": 13,
     "metadata": {},
     "output_type": "execute_result"
    }
   ],
   "source": [
    "r=np.arange(0,9)\n",
    "r.reshape(3,3)"
   ]
  },
  {
   "cell_type": "code",
   "execution_count": 14,
   "id": "e5a15e1f",
   "metadata": {},
   "outputs": [
    {
     "data": {
      "text/plain": [
       "(array([0, 1, 4], dtype=int64),)"
      ]
     },
     "execution_count": 14,
     "metadata": {},
     "output_type": "execute_result"
    }
   ],
   "source": [
    "n=[1,2,0,0,4,0]\n",
    "np.nonzero(n)"
   ]
  },
  {
   "cell_type": "code",
   "execution_count": 15,
   "id": "6be07ab2",
   "metadata": {},
   "outputs": [
    {
     "data": {
      "text/plain": [
       "array([[1., 0., 0.],\n",
       "       [0., 1., 0.],\n",
       "       [0., 0., 1.]])"
      ]
     },
     "execution_count": 15,
     "metadata": {},
     "output_type": "execute_result"
    }
   ],
   "source": [
    "np.identity(3)"
   ]
  },
  {
   "cell_type": "code",
   "execution_count": 16,
   "id": "44be0f54",
   "metadata": {},
   "outputs": [
    {
     "data": {
      "text/plain": [
       "array([[1., 0., 0.],\n",
       "       [0., 1., 0.],\n",
       "       [0., 0., 1.]])"
      ]
     },
     "execution_count": 16,
     "metadata": {},
     "output_type": "execute_result"
    }
   ],
   "source": [
    "np.eye(3)"
   ]
  },
  {
   "cell_type": "code",
   "execution_count": 21,
   "id": "674e7b0a",
   "metadata": {},
   "outputs": [
    {
     "data": {
      "text/plain": [
       "array([[[0.7269168 , 0.2666285 , 0.46372536],\n",
       "        [0.8963736 , 0.28090499, 0.31241406],\n",
       "        [0.50305064, 0.25494382, 0.36321786]],\n",
       "\n",
       "       [[0.6379615 , 0.47683753, 0.35777226],\n",
       "        [0.94057923, 0.19630332, 0.08756512],\n",
       "        [0.3118475 , 0.37198558, 0.55077032]],\n",
       "\n",
       "       [[0.60631747, 0.64691098, 0.62463537],\n",
       "        [0.47523299, 0.46456447, 0.61686131],\n",
       "        [0.20360073, 0.17811309, 0.12947104]]])"
      ]
     },
     "execution_count": 21,
     "metadata": {},
     "output_type": "execute_result"
    }
   ],
   "source": [
    "np.random.random((3,3,3))"
   ]
  },
  {
   "cell_type": "code",
   "execution_count": 34,
   "id": "68bc941f",
   "metadata": {},
   "outputs": [
    {
     "name": "stdout",
     "output_type": "stream",
     "text": [
      "[[0.2463378  0.05761259 0.17820403 0.92158507 0.37863145 0.99294005\n",
      "  0.56532773 0.86261834 0.10728648 0.53594663]\n",
      " [0.32167502 0.05258526 0.92707284 0.49737158 0.73648842 0.71469468\n",
      "  0.70458657 0.69044488 0.00676202 0.07748214]\n",
      " [0.90812761 0.43556073 0.67809104 0.22552891 0.93029351 0.64538486\n",
      "  0.53419629 0.90849392 0.92909787 0.57691126]\n",
      " [0.68876617 0.56264723 0.06046755 0.6584955  0.42011282 0.81813805\n",
      "  0.68260814 0.52848753 0.76237386 0.16433222]\n",
      " [0.09598915 0.48279162 0.46210528 0.59233892 0.41827743 0.35359007\n",
      "  0.83631517 0.11039371 0.68051519 0.52401718]\n",
      " [0.22269465 0.04424744 0.62584542 0.76692989 0.76136793 0.00578816\n",
      "  0.63710736 0.90481421 0.01368638 0.54442551]\n",
      " [0.78669305 0.00271489 0.70368792 0.87279606 0.20274881 0.80353541\n",
      "  0.52862772 0.75891823 0.90131367 0.60700662]\n",
      " [0.61786306 0.61205294 0.38488755 0.91663194 0.07139309 0.3648643\n",
      "  0.37677444 0.85669097 0.90224503 0.82054716]\n",
      " [0.8530055  0.94541209 0.46854683 0.72383161 0.58980918 0.23357723\n",
      "  0.30700742 0.24443244 0.0386105  0.13952402]\n",
      " [0.01961153 0.82697195 0.46725932 0.62573897 0.14044328 0.17337676\n",
      "  0.7524539  0.62309739 0.45377759 0.41583037]]\n",
      "\n",
      "0.0027148899989303255 0.9929400545960266\n"
     ]
    }
   ],
   "source": [
    "v=np.random.random((10,10))\n",
    "print(v)\n",
    "print('')\n",
    "print(v.min(),v.max())"
   ]
  },
  {
   "cell_type": "code",
   "execution_count": 40,
   "id": "a7c62e9c",
   "metadata": {},
   "outputs": [
    {
     "name": "stdout",
     "output_type": "stream",
     "text": [
      "[[0.17286573 0.74250199 0.61407664 0.97097311 0.6003763  0.72447679\n",
      "  0.07924194 0.53214519 0.58344198 0.02163941]]\n",
      "0.5041739076250346\n"
     ]
    }
   ],
   "source": [
    "v2=np.random.random((1,10))\n",
    "print(v2)\n",
    "print(v2.mean())\n",
    "print()"
   ]
  },
  {
   "cell_type": "code",
   "execution_count": 43,
   "id": "ad9578b0",
   "metadata": {},
   "outputs": [
    {
     "data": {
      "text/plain": [
       "array([[0, 0, 0, 0, 0],\n",
       "       [0, 1, 0, 0, 0],\n",
       "       [0, 0, 2, 0, 0],\n",
       "       [0, 0, 0, 3, 0],\n",
       "       [0, 0, 0, 0, 4]])"
      ]
     },
     "execution_count": 43,
     "metadata": {},
     "output_type": "execute_result"
    }
   ],
   "source": [
    "np.diag([0,1, 2, 3, 4])"
   ]
  },
  {
   "cell_type": "code",
   "execution_count": 44,
   "id": "94c4a997",
   "metadata": {},
   "outputs": [
    {
     "name": "stdout",
     "output_type": "stream",
     "text": [
      "Original Array:\n",
      "[[0.34563339 0.35787399 0.23199009 0.66470742 0.2481554 ]\n",
      " [0.55309547 0.09446737 0.26787487 0.21510527 0.32697418]\n",
      " [0.33029543 0.48709011 0.24083312 0.00637979 0.62279952]\n",
      " [0.41799696 0.58522303 0.99865277 0.11652707 0.3279904 ]\n",
      " [0.35895403 0.14704535 0.4763117  0.67942031 0.38790852]]\n",
      "After normalization:\n",
      "[[-0.15755398 -0.10072954 -0.68511942  1.32368095 -0.61007531]\n",
      " [ 0.80554566 -1.32354009 -0.51853178 -0.7635037  -0.24417547]\n",
      " [-0.22875726  0.49912947 -0.64406747 -1.73246838  1.12913222]\n",
      " [ 0.17837885  0.95469119  2.87395292 -1.2211325  -0.23945792]\n",
      " [-0.09571566 -1.07945774  0.44909292  1.39198252  0.03869952]]\n"
     ]
    }
   ],
   "source": [
    "x= np.random.random((5,5))\n",
    "print(\"Original Array:\")\n",
    "print(x)\n",
    "xmean, xstd = x.mean(), x.std()\n",
    "x = (x - xmean)/xstd\n",
    "print(\"After normalization:\")\n",
    "print(x)"
   ]
  },
  {
   "cell_type": "code",
   "execution_count": 45,
   "id": "007a12b3",
   "metadata": {},
   "outputs": [
    {
     "data": {
      "text/plain": [
       "array([1, 4])"
      ]
     },
     "execution_count": 45,
     "metadata": {},
     "output_type": "execute_result"
    }
   ],
   "source": [
    "v3=[1,2,3,4,5]\n",
    "v4=[0,1,4,6,7]\n",
    "np.intersect1d(v3,v4)"
   ]
  },
  {
   "cell_type": "code",
   "execution_count": 52,
   "id": "6f96686c",
   "metadata": {},
   "outputs": [
    {
     "name": "stdout",
     "output_type": "stream",
     "text": [
      "[0.61511601 0.17209945 0.42701661 0.19272728 0.51688994 0.79154264\n",
      " 0.36777509 0.61986248 0.14032007 0.13406273]\n",
      "[0.13406273 0.14032007 0.17209945 0.19272728 0.36777509 0.42701661\n",
      " 0.51688994 0.61511601 0.61986248 0.79154264]\n"
     ]
    }
   ],
   "source": [
    "v4= np.random.random((10))\n",
    "print(v4)\n",
    "v4.sort()\n",
    "print(v4)"
   ]
  },
  {
   "cell_type": "code",
   "execution_count": 60,
   "id": "943216a2",
   "metadata": {},
   "outputs": [
    {
     "name": "stdout",
     "output_type": "stream",
     "text": [
      "[0.43583845 0.19749375 0.96863399 0.43779844 0.76705591 0.15966035\n",
      " 0.00615239 0.07779783 0.24594405 0.19390488]\n",
      "[0.43583845 0.19749375 0.         0.43779844 0.76705591 0.15966035\n",
      " 0.00615239 0.07779783 0.24594405 0.19390488]\n"
     ]
    }
   ],
   "source": [
    "v5=np.random.random((10))\n",
    "print(v5)\n",
    "v5[np.argmax(v5)]=0\n",
    "print(v5)\n"
   ]
  },
  {
   "cell_type": "code",
   "execution_count": 74,
   "id": "47e85a02",
   "metadata": {},
   "outputs": [
    {
     "name": "stdout",
     "output_type": "stream",
     "text": [
      "[[0.15323573 0.34368566 0.84221713]\n",
      " [0.21127141 0.84167072 0.33707856]\n",
      " [0.25569645 0.60485744 0.80347594]]\n",
      "[[-0.29314377 -0.10269385  0.39583762]\n",
      " [-0.25206882  0.37833049 -0.12626167]\n",
      " [-0.29898016  0.05018083  0.24879933]]\n"
     ]
    }
   ],
   "source": [
    "v6=np.random.random((3,3))\n",
    "print(v6)\n",
    "v7 = v6 - v6.mean(axis=1, keepdims=True)\n",
    "print(v7)"
   ]
  },
  {
   "cell_type": "code",
   "execution_count": 83,
   "id": "547a7aec",
   "metadata": {},
   "outputs": [
    {
     "name": "stdout",
     "output_type": "stream",
     "text": [
      "[9995 9996 9997 9998 9999]\n"
     ]
    }
   ],
   "source": [
    "Z = np.arange(10000)\n",
    "np.random.shuffle(Z)\n",
    "n = 5\n",
    "sorted_index_array = np.argsort(Z)\n",
    "# sorted array\n",
    "sorted_array = Z[sorted_index_array]\n",
    "rslt = sorted_array[-n : ]\n",
    "print(rslt)"
   ]
  },
  {
   "cell_type": "code",
   "execution_count": 100,
   "id": "f6c75e04",
   "metadata": {
    "scrolled": true
   },
   "outputs": [
    {
     "name": "stdout",
     "output_type": "stream",
     "text": [
      "[[4 5 0]\n",
      " [0 3 2]\n",
      " [5 4 5]\n",
      " [7 7 6]\n",
      " [2 5 1]]\n",
      "[[ 4 25  0]\n",
      " [ 0  3  2]\n",
      " [25  4 25]\n",
      " [49 49 36]\n",
      " [ 2 25  1]]\n"
     ]
    }
   ],
   "source": [
    "v8=np.random.randint(low=0,high=10,size=(5,3))\n",
    "print(v8)\n",
    "v9=np.where(v8 > 4, v8*v8 , v8)\n",
    "print(v9)"
   ]
  }
 ],
 "metadata": {
  "kernelspec": {
   "display_name": "Python 3 (ipykernel)",
   "language": "python",
   "name": "python3"
  },
  "language_info": {
   "codemirror_mode": {
    "name": "ipython",
    "version": 3
   },
   "file_extension": ".py",
   "mimetype": "text/x-python",
   "name": "python",
   "nbconvert_exporter": "python",
   "pygments_lexer": "ipython3",
   "version": "3.9.13"
  }
 },
 "nbformat": 4,
 "nbformat_minor": 5
}
