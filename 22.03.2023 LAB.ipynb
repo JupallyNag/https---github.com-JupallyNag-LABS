{
 "cells": [
  {
   "cell_type": "markdown",
   "id": "add3a312",
   "metadata": {},
   "source": [
    "# Duel of Sorcerers"
   ]
  },
  {
   "cell_type": "code",
   "execution_count": 3,
   "id": "8523c199",
   "metadata": {},
   "outputs": [],
   "source": [
    "gandalf = [10, 11, 13, 30, 22, 11, 10, 33, 22, 22]\n",
    "saruman = [23, 66, 12, 43, 12, 10, 44, 23, 12, 17]\n",
    "spell = [10]"
   ]
  },
  {
   "cell_type": "code",
   "execution_count": 4,
   "id": "2590f52b",
   "metadata": {},
   "outputs": [
    {
     "data": {
      "text/plain": [
       "10"
      ]
     },
     "execution_count": 4,
     "metadata": {},
     "output_type": "execute_result"
    }
   ],
   "source": [
    "spells=len(gandalf)"
   ]
  },
  {
   "cell_type": "code",
   "execution_count": 5,
   "id": "ce6739e0",
   "metadata": {},
   "outputs": [
    {
     "data": {
      "text/plain": [
       "10"
      ]
     },
     "execution_count": 5,
     "metadata": {},
     "output_type": "execute_result"
    }
   ],
   "source": [
    "len(saruman)"
   ]
  },
  {
   "cell_type": "code",
   "execution_count": 6,
   "id": "409a0f6a",
   "metadata": {},
   "outputs": [],
   "source": [
    "gandalf_wins=0\n",
    "saruman_wins=0\n",
    "tie=0"
   ]
  },
  {
   "cell_type": "code",
   "execution_count": 20,
   "id": "eabf4345",
   "metadata": {},
   "outputs": [
    {
     "name": "stdout",
     "output_type": "stream",
     "text": [
      "gandalf_wins:7,saruman_wins:3, tie:0\n"
     ]
    }
   ],
   "source": [
    "for i in range(len(gandalf)):\n",
    "    if gandalf[i] > saruman[i]:\n",
    "        gandalf_wins+=1\n",
    "    elif gandalf[i] < saruman[i]:\n",
    "        saruman_wins+=1\n",
    "    else:\n",
    "        tie+=1\n",
    "print(f\"gandalf_wins:{gandalf_wins},saruman_wins:{saruman_wins}, tie:{tie}\")\n",
    "        \n",
    "        \n",
    "        "
   ]
  },
  {
   "cell_type": "code",
   "execution_count": 11,
   "id": "f4cad1ac",
   "metadata": {},
   "outputs": [],
   "source": [
    "POWER = {\n",
    "    'Fireball': 50, \n",
    "    'Lightning bolt': 40, \n",
    "    'Magic arrow': 10, \n",
    "    'Black Tentacles': 25, \n",
    "    'Contagion': 45\n",
    "}\n",
    "\n",
    "gandalf = ['Fireball', 'Lightning bolt', 'Lightning bolt', 'Magic arrow', 'Fireball', \n",
    "           'Magic arrow', 'Lightning bolt', 'Fireball', 'Fireball', 'Fireball']\n",
    "saruman = ['Contagion', 'Contagion', 'Black Tentacles', 'Fireball', 'Black Tentacles', \n",
    "           'Lightning bolt', 'Magic arrow', 'Contagion', 'Magic arrow', 'Magic arrow']"
   ]
  },
  {
   "cell_type": "code",
   "execution_count": 13,
   "id": "a9050bde",
   "metadata": {},
   "outputs": [],
   "source": [
    "spells=len(gandalf)"
   ]
  },
  {
   "cell_type": "code",
   "execution_count": 32,
   "id": "a0c2fed9",
   "metadata": {},
   "outputs": [],
   "source": [
    "gandalf_wins=0\n",
    "saruman_wins=0\n",
    "tie=0"
   ]
  },
  {
   "cell_type": "code",
   "execution_count": 37,
   "id": "b3b58c26",
   "metadata": {},
   "outputs": [
    {
     "name": "stdout",
     "output_type": "stream",
     "text": [
      "[50, 40, 40, 10, 50, 10, 40, 50, 50, 50]\n",
      "[45, 45, 25, 50, 25, 40, 10, 45, 10, 10]\n"
     ]
    }
   ],
   "source": [
    "gandalf_power=[]\n",
    "saruman_power=[]\n",
    "for i in range(len(gandalf)):\n",
    "    gandalf_power.append(POWER[gandalf[i]])\n",
    "    saruman_power.append(POWER[saruman[i]])\n",
    "print(gandalf_power)\n",
    "print(saruman_power) "
   ]
  },
  {
   "cell_type": "code",
   "execution_count": 36,
   "id": "bbacd7be",
   "metadata": {},
   "outputs": [
    {
     "name": "stdout",
     "output_type": "stream",
     "text": [
      "gandalf_wins\n"
     ]
    }
   ],
   "source": [
    "gandalf_wins=0\n",
    "saruman_wins=0\n",
    "tie=0\n",
    "for i in range(len(gandalf_power)):\n",
    "    if gandalf_power[i] > saruman_power[i]:\n",
    "        gandalf_wins+=1\n",
    "    elif gandalf_power[i] < saruman_power[i]:\n",
    "        saruman_wins+=1\n",
    "    if gandalf_wins-saruman_wins == 0:\n",
    "        gandalf_wins=0\n",
    "        saruman_wins=0\n",
    "#     print(gandalf_wins,saruman_wins)\n",
    "if gandalf_wins > saruman_wins:\n",
    "    print(\"gandalf_wins\")\n",
    "else:\n",
    "    print(\"saruman_wins\")"
   ]
  },
  {
   "cell_type": "code",
   "execution_count": 44,
   "id": "92b2a75d",
   "metadata": {},
   "outputs": [
    {
     "data": {
      "text/plain": [
       "39"
      ]
     },
     "execution_count": 44,
     "metadata": {},
     "output_type": "execute_result"
    }
   ],
   "source": [
    "import statistics as stats\n",
    "stats.mean(gandalf_power)"
   ]
  },
  {
   "cell_type": "code",
   "execution_count": 45,
   "id": "ec09c47b",
   "metadata": {},
   "outputs": [
    {
     "data": {
      "text/plain": [
       "30.5"
      ]
     },
     "execution_count": 45,
     "metadata": {},
     "output_type": "execute_result"
    }
   ],
   "source": [
    "stats.mean(saruman_power)"
   ]
  },
  {
   "cell_type": "code",
   "execution_count": 47,
   "id": "e81fdab6",
   "metadata": {},
   "outputs": [
    {
     "data": {
      "text/plain": [
       "15.951314818673865"
      ]
     },
     "execution_count": 47,
     "metadata": {},
     "output_type": "execute_result"
    }
   ],
   "source": [
    "import statistics as stats\n",
    "stats.stdev(gandalf_power)"
   ]
  },
  {
   "cell_type": "code",
   "execution_count": 48,
   "id": "946a1b7d",
   "metadata": {},
   "outputs": [
    {
     "data": {
      "text/plain": [
       "16.40629960309962"
      ]
     },
     "execution_count": 48,
     "metadata": {},
     "output_type": "execute_result"
    }
   ],
   "source": [
    "import statistics as stats\n",
    "stats.stdev(saruman_power)"
   ]
  }
 ],
 "metadata": {
  "kernelspec": {
   "display_name": "Python 3 (ipykernel)",
   "language": "python",
   "name": "python3"
  },
  "language_info": {
   "codemirror_mode": {
    "name": "ipython",
    "version": 3
   },
   "file_extension": ".py",
   "mimetype": "text/x-python",
   "name": "python",
   "nbconvert_exporter": "python",
   "pygments_lexer": "ipython3",
   "version": "3.9.13"
  }
 },
 "nbformat": 4,
 "nbformat_minor": 5
}
